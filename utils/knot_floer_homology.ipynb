{
 "cells": [
  {
   "cell_type": "markdown",
   "id": "979bf50b",
   "metadata": {},
   "source": [
    "# Compute Knot Floer Homology"
   ]
  },
  {
   "cell_type": "code",
   "execution_count": null,
   "id": "28f429fd",
   "metadata": {},
   "outputs": [],
   "source": [
    "import numpy as np\n",
    "import pandas as pd\n",
    "import snappy\n",
    "from ast import literal_eval\n",
    "\n",
    "from tqdm.auto import tqdm"
   ]
  },
  {
   "cell_type": "code",
   "execution_count": null,
   "id": "b7dbb050",
   "metadata": {},
   "outputs": [],
   "source": [
    "# do it for every PD code file in input/PD, then merge the dataframes\n",
    "PD_df = pd.read_csv(\"input/PD/03_1-14n27436.txt\", sep=\"=\", names=[\"knot_id\", \"code\"])\n",
    "\n",
    "KFH_list = []\n",
    "sign_list = []\n",
    "\n",
    "for c in tqdm(PD_df.code):\n",
    "    L = snappy.Link(literal_eval(c.replace(\"PD\", \"\").replace(\"X\", \"\")))\n",
    "\n",
    "    KFH_list.append(L.knot_floer_homology())\n",
    "    sign_list.append(L.signature())\n",
    "\n",
    "kfh_df = pd.DataFrame(data=KFH_list)\n",
    "kfh_df[\"knot_id\"] = PD_df.loc[:, [\"knot_id\"]]\n",
    "kfh_df[\"signature\"] = sign_list"
   ]
  },
  {
   "cell_type": "code",
   "execution_count": null,
   "id": "973cf651",
   "metadata": {},
   "outputs": [],
   "source": [
    "kfh_df.to_csv(\"output/HFK_{}\".format(f))"
   ]
  }
 ],
 "metadata": {
  "kernelspec": {
   "display_name": "knots",
   "language": "python",
   "name": "python3"
  },
  "language_info": {
   "codemirror_mode": {
    "name": "ipython",
    "version": 3
   },
   "file_extension": ".py",
   "mimetype": "text/x-python",
   "name": "python",
   "nbconvert_exporter": "python",
   "pygments_lexer": "ipython3",
   "version": "3.12.11"
  }
 },
 "nbformat": 4,
 "nbformat_minor": 5
}
